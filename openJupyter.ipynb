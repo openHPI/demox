{
 "cells": [
  {
   "cell_type": "markdown",
   "id": "cf2a3737-329c-4bf5-a017-abadfa3b687e",
   "metadata": {},
   "source": [
    "## Welcome to OpenJupyter \n",
    "\n",
    "- #### An enhanced platform built upon Jupyter notebooks, which is the interface you are currently using. \n",
    "\n",
    "- #### Notebooks serve as an excellent means to structure your code and incorporate comments known as markdowns. \n",
    "\n",
    "- #### Within code cells, you can compose and execute your code independently, making it a valuable tool for data visualization. \n",
    "\n",
    "### Let's explore its capabilities together."
   ]
  },
  {
   "cell_type": "markdown",
   "id": "d60d09d3-d3b4-4ae9-8655-d6c7c4ad334c",
   "metadata": {
    "tags": []
   },
   "source": [
    "### This is a markdown cell \n",
    "\n",
    "\"Try to change this text and say hello\" \n",
    "\n",
    "- Hint: double tap on the text to start editing"
   ]
  },
  {
   "cell_type": "code",
   "execution_count": null,
   "id": "6b839782-d697-47e0-91c4-32cbbe884b78",
   "metadata": {},
   "outputs": [],
   "source": [
    "# This is a code cell. \n",
    "\n",
    "# Try running it by pressing the start button at the top of the notebook or simply press shift+enter.\n",
    "\n",
    "print(\"I just ran my first code cell\")"
   ]
  },
  {
   "cell_type": "markdown",
   "id": "19148305-5cc0-4cd8-b137-39b2b5f64c9a",
   "metadata": {},
   "source": [
    "#### p.s. you can see what type of cell you are currently in by looking at the top of the notebook"
   ]
  },
  {
   "cell_type": "markdown",
   "id": "7a3685bf-4759-4a2e-92ba-5d806daed210",
   "metadata": {},
   "source": [
    "### Now lets create some cool visualizations"
   ]
  },
  {
   "cell_type": "markdown",
   "id": "198ff31c-9ab4-4c43-b06b-b662238844a6",
   "metadata": {},
   "source": [
    "#### First we load the libraries we need (Remember to run this cell before moving forward)\n"
   ]
  },
  {
   "cell_type": "code",
   "execution_count": null,
   "id": "0480b5ef-81f6-48dd-b8e8-e8bd4575c85e",
   "metadata": {},
   "outputs": [],
   "source": [
    "import pandas as pd\n",
    "import plotly.express as px"
   ]
  },
  {
   "cell_type": "markdown",
   "id": "c66e5c31-c5d3-4aeb-91fb-0cf0480ecc82",
   "metadata": {},
   "source": [
    "#### Now lets load our dataset of the world population and take a look at it\n"
   ]
  },
  {
   "cell_type": "code",
   "execution_count": null,
   "id": "4ac7e6f2-d7c8-4c16-b88e-f032d55e12a0",
   "metadata": {},
   "outputs": [],
   "source": [
    "df = pd.read_csv('World_Population_2022.csv')\n",
    "df.head(5)"
   ]
  },
  {
   "cell_type": "markdown",
   "id": "0301b75c-0ced-4938-b539-3c505be9c23f",
   "metadata": {},
   "source": [
    "#### Reading tables might be fun, but visualizing them is way cooler "
   ]
  },
  {
   "cell_type": "code",
   "execution_count": null,
   "id": "2997218f-0dd6-4c19-b868-75e23213f236",
   "metadata": {},
   "outputs": [],
   "source": [
    "fig = px.choropleth(df, \n",
    "                    locations=\"CCA3\", \n",
    "                    color=\"Population\", \n",
    "                    hover_name = 'Country/Territory',\n",
    "                    animation_frame=\"Year\", \n",
    "                    animation_group=\"CCA3\")\n",
    "\n",
    "fig.update_layout(width=800, height=600)\n",
    "\n",
    "fig.show()"
   ]
  },
  {
   "cell_type": "markdown",
   "id": "59e9ab42-10fe-4996-9f79-135924f11c3c",
   "metadata": {},
   "source": [
    "#### Lets try a different plot"
   ]
  },
  {
   "cell_type": "code",
   "execution_count": null,
   "id": "9a2ec6b2-e14e-4bce-8970-6ee8234353a3",
   "metadata": {},
   "outputs": [],
   "source": [
    "con_pop = df.groupby(['Continent','Year']).Population.sum().reset_index()\n",
    "\n",
    "fig = px.bar(con_pop, x=\"Continent\", \n",
    "             y=\"Population\", \n",
    "             color=\"Continent\",\n",
    "             animation_frame=\"Year\", \n",
    "             animation_group=\"Continent\", \n",
    "             range_y=[0,5000000000])\n",
    "\n",
    "fig.update_layout(width=800, height=600)\n",
    "\n",
    "fig.show()"
   ]
  },
  {
   "cell_type": "markdown",
   "id": "78891928-0960-49c5-996e-af67a3da578d",
   "metadata": {},
   "source": [
    "#### What about the countries within each continent"
   ]
  },
  {
   "cell_type": "code",
   "execution_count": null,
   "id": "ba0fda1a-a35e-4e52-8beb-b2404222c57d",
   "metadata": {},
   "outputs": [],
   "source": [
    "def Continent_population(value):\n",
    "    country_pop = df[df.Continent == value]\n",
    "    \n",
    "    #set the custom range for each Continent to avoid difficult to see country when popular too low\n",
    "    if value == 'Asia': number = 1500000000\n",
    "    if value == 'Europe': number = 150000000\n",
    "    if value == 'Africa': number = 230000000\n",
    "    if value == 'Oceania': number = 27000000\n",
    "    if value == 'North America': number = 350000000\n",
    "    if value == 'South America': number = 240000000\n",
    "        \n",
    "    # title\n",
    "    title = 'Country population in '+value+' continent'\n",
    "    fig = px.bar(country_pop, \n",
    "             x=\"Country/Territory\", \n",
    "             y=\"Population\", \n",
    "             color = 'Country/Territory',\n",
    "             animation_frame=\"Year\", \n",
    "             animation_group=\"Country/Territory\",\n",
    "             title = title,\n",
    "             range_y=[0,number])\n",
    "    \n",
    "    fig.update_layout(width=1000, height=800)\n",
    "    \n",
    "    return fig\n",
    "\n",
    "#Call the fucntion above to display the growth in Asia's Continent\n",
    "print(f'Here are the Continent you can pass in to function to diplay the growth: \\n{df.Continent.unique()}')\n",
    "\n",
    "Continent_population('Africa')"
   ]
  },
  {
   "cell_type": "markdown",
   "id": "ce76d569-7a56-4525-a1b7-74432f65512f",
   "metadata": {},
   "source": [
    "## Well done! \n",
    "\n",
    "### If you are done exploring openJupyter and the cool visualizations provided, lets go back to the course\n",
    "\n",
    "#### Run the below cell to submit and receive your deserved point"
   ]
  },
  {
   "cell_type": "code",
   "execution_count": null,
   "id": "0105cd9a-332a-4a63-aa32-291f85b4d8d9",
   "metadata": {},
   "outputs": [],
   "source": []
  }
 ],
 "metadata": {
  "kernelspec": {
   "display_name": "Python 3 (ipykernel)",
   "language": "python",
   "name": "python3"
  },
  "language_info": {
   "codemirror_mode": {
    "name": "ipython",
    "version": 3
   },
   "file_extension": ".py",
   "mimetype": "text/x-python",
   "name": "python",
   "nbconvert_exporter": "python",
   "pygments_lexer": "ipython3",
   "version": "3.9.7"
  }
 },
 "nbformat": 4,
 "nbformat_minor": 5
}
