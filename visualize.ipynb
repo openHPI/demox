{
 "cells": [
  {
   "cell_type": "code",
   "execution_count": null,
   "id": "c793e1bd-5150-48c2-adc0-540df9b76671",
   "metadata": {},
   "outputs": [],
   "source": [
    "!pip install plotly;"
   ]
  },
  {
   "cell_type": "code",
   "execution_count": null,
   "id": "f094806c-d4a0-4b80-b4d3-4a160b4efedc",
   "metadata": {},
   "outputs": [],
   "source": [
    "!pip install --upgrade notebook plotly\n"
   ]
  },
  {
   "cell_type": "code",
   "execution_count": null,
   "id": "646bd875",
   "metadata": {
    "_cell_guid": "b1076dfc-b9ad-4769-8c92-a6c4dae69d19",
    "_uuid": "8f2839f25d086af736a60e9eeb907d3b93b6e0e5",
    "papermill": {
     "duration": 1.503881,
     "end_time": "2023-10-25T02:06:54.439001",
     "exception": false,
     "start_time": "2023-10-25T02:06:52.935120",
     "status": "completed"
    },
    "tags": []
   },
   "outputs": [],
   "source": [
    "import pandas as pd\n",
    "import plotly.express as px"
   ]
  },
  {
   "cell_type": "code",
   "execution_count": null,
   "id": "3ef03c91",
   "metadata": {
    "papermill": {
     "duration": 0.072255,
     "end_time": "2023-10-25T02:06:54.517915",
     "exception": false,
     "start_time": "2023-10-25T02:06:54.445660",
     "status": "completed"
    },
    "tags": []
   },
   "outputs": [],
   "source": [
    "df = pd.read_csv('world_population.csv')\n",
    "df.head(5)"
   ]
  },
  {
   "cell_type": "code",
   "execution_count": null,
   "id": "d25aee83",
   "metadata": {
    "papermill": {
     "duration": 0.024754,
     "end_time": "2023-10-25T02:06:54.549549",
     "exception": false,
     "start_time": "2023-10-25T02:06:54.524795",
     "status": "completed"
    },
    "tags": []
   },
   "outputs": [],
   "source": [
    "df.isnull().sum()"
   ]
  },
  {
   "cell_type": "code",
   "execution_count": null,
   "id": "516430e8",
   "metadata": {
    "papermill": {
     "duration": 0.064766,
     "end_time": "2023-10-25T02:06:54.620664",
     "exception": false,
     "start_time": "2023-10-25T02:06:54.555898",
     "status": "completed"
    },
    "tags": []
   },
   "outputs": [],
   "source": [
    "# Group by columns\n",
    "population = df.groupby(['Continent', 'Country/Territory', 'CCA3'])[['2022 Population',\n",
    "                                                                   '2020 Population',\n",
    "                                                                   '2015 Population',\n",
    "                                                                   '2010 Population',\n",
    "                                                                   '2000 Population',\n",
    "                                                                   '1990 Population',\n",
    "                                                                   '1980 Population',\n",
    "                                                                   '1970 Population']\n",
    "                                                                 ].count().reset_index()\n"
   ]
  },
  {
   "cell_type": "code",
   "execution_count": null,
   "id": "a7904d31",
   "metadata": {
    "papermill": {
     "duration": 0.026158,
     "end_time": "2023-10-25T02:06:54.652265",
     "exception": false,
     "start_time": "2023-10-25T02:06:54.626107",
     "status": "completed"
    },
    "tags": []
   },
   "outputs": [],
   "source": [
    "#Transfom the columns into rows\n",
    "pop_growth = population.melt(id_vars = ['Continent','Country/Territory','CCA3'],\n",
    "                             value_vars = ['2022 Population',\n",
    "                                           '2020 Population',\n",
    "                                           '2015 Population',\n",
    "                                           '2010 Population',\n",
    "                                           '2000 Population',\n",
    "                                           '1990 Population',\n",
    "                                           '1980 Population',\n",
    "                                           '1970 Population'],\n",
    "                            var_name = 'Years')"
   ]
  },
  {
   "cell_type": "code",
   "execution_count": null,
   "id": "388d6c4a",
   "metadata": {
    "papermill": {
     "duration": 0.025888,
     "end_time": "2023-10-25T02:06:54.683675",
     "exception": false,
     "start_time": "2023-10-25T02:06:54.657787",
     "status": "completed"
    },
    "tags": []
   },
   "outputs": [],
   "source": [
    "#rename column 'value' to 'Population'\n",
    "pop_growth.rename(columns = {'value':'Population'}, inplace = True)\n",
    "\n",
    "#split the year from Growth column\n",
    "pop_growth['Year'] = pop_growth['Years'].str.split(' ').str[0]\n",
    "\n",
    "#sort Year column\n",
    "pop_gr = pop_growth.sort_values(by ='Year', ascending = True)"
   ]
  },
  {
   "cell_type": "code",
   "execution_count": null,
   "id": "96d69bcd",
   "metadata": {
    "papermill": {
     "duration": 2.59312,
     "end_time": "2023-10-25T02:06:57.283143",
     "exception": false,
     "start_time": "2023-10-25T02:06:54.690023",
     "status": "completed"
    },
    "tags": []
   },
   "outputs": [],
   "source": [
    "fig = px.choropleth(pop_gr, \n",
    "                    locations=\"CCA3\", \n",
    "                    color=\"Population\", \n",
    "                    hover_name = 'Country/Territory',\n",
    "                    animation_frame=\"Year\", \n",
    "                    animation_group=\"CCA3\")\n",
    "fig.show(renderer=\"notebook\")"
   ]
  },
  {
   "cell_type": "code",
   "execution_count": null,
   "id": "a121a284",
   "metadata": {
    "papermill": {
     "duration": 0.02954,
     "end_time": "2023-10-25T02:06:57.319812",
     "exception": false,
     "start_time": "2023-10-25T02:06:57.290272",
     "status": "completed"
    },
    "tags": []
   },
   "outputs": [],
   "source": [
    "con_pop = pop_gr.groupby(['Continent','Year']).Population.sum().reset_index()"
   ]
  },
  {
   "cell_type": "code",
   "execution_count": null,
   "id": "a288d23d",
   "metadata": {
    "papermill": {
     "duration": 0.427659,
     "end_time": "2023-10-25T02:06:57.754647",
     "exception": false,
     "start_time": "2023-10-25T02:06:57.326988",
     "status": "completed"
    },
    "tags": []
   },
   "outputs": [],
   "source": [
    "fig = px.bar(con_pop, x=\"Continent\", \n",
    "             y=\"Population\", \n",
    "             color=\"Continent\",\n",
    "             animation_frame=\"Year\", \n",
    "             animation_group=\"Continent\", \n",
    "             range_y=[0,5000000000])\n",
    "fig.show()"
   ]
  },
  {
   "cell_type": "code",
   "execution_count": null,
   "id": "71ee4c5d",
   "metadata": {
    "papermill": {
     "duration": 2.467489,
     "end_time": "2023-10-25T02:07:00.229754",
     "exception": false,
     "start_time": "2023-10-25T02:06:57.762265",
     "status": "completed"
    },
    "tags": []
   },
   "outputs": [],
   "source": [
    "def Continent_population(value):\n",
    "    country_pop = pop_gr[pop_gr.Continent == value]\n",
    "    \n",
    "    #set the custom range for each Continent to avoid difficult to see country when popular too low\n",
    "    if value == 'Asia': number = 1500000000\n",
    "    if value == 'Europe': number = 150000000\n",
    "    if value == 'Africa': number = 230000000\n",
    "    if value == 'Oceania': number = 27000000\n",
    "    if value == 'North America': number = 350000000\n",
    "    if value == 'South America': number = 240000000\n",
    "        \n",
    "    #custom title\n",
    "    title = 'Country population in '+value+' continent'\n",
    "    \n",
    "    return px.bar(country_pop, \n",
    "             x=\"Country/Territory\", \n",
    "             y=\"Population\", \n",
    "             color = 'Country/Territory',\n",
    "             animation_frame=\"Year\", \n",
    "             animation_group=\"Country/Territory\",\n",
    "             title = title,\n",
    "             range_y=[0,number])\n",
    "\n",
    "#Call the fucntion above to display the growth in Asia's Continent\n",
    "print(f'Here are the Continent you can pass in to function to diplay the growth: \\n{df.Continent.unique()}')\n",
    "\n",
    "Continent_population('Asia')\n",
    "#Continent_population('Europe')\n",
    "#Continent_population('Africa')"
   ]
  },
  {
   "cell_type": "code",
   "execution_count": null,
   "id": "4635f94e",
   "metadata": {
    "papermill": {
     "duration": 0.335452,
     "end_time": "2023-10-25T02:07:00.576157",
     "exception": false,
     "start_time": "2023-10-25T02:07:00.240705",
     "status": "completed"
    },
    "tags": []
   },
   "outputs": [],
   "source": [
    "def pop_by_year(value):\n",
    "    pop_year = pop_gr[pop_gr.Year == value]\n",
    "    title = 'Population each country in '+value\n",
    "    return px.sunburst(pop_year,\n",
    "                       path=['Continent', 'Country/Territory'], \n",
    "                       values='Population',\n",
    "                       color ='Population',\n",
    "                       title = title)\n",
    "pop_by_year('2022')"
   ]
  },
  {
   "cell_type": "code",
   "execution_count": null,
   "id": "ac253059",
   "metadata": {
    "papermill": {
     "duration": 0.091044,
     "end_time": "2023-10-25T02:07:00.678543",
     "exception": false,
     "start_time": "2023-10-25T02:07:00.587499",
     "status": "completed"
    },
    "tags": []
   },
   "outputs": [],
   "source": [
    "fig = px.choropleth(df, \n",
    "                    locations='CCA3', \n",
    "                    color='Area (km²)', \n",
    "                    hover_name='Country/Territory', \n",
    "                    title='Country area')\n",
    "fig.show()"
   ]
  },
  {
   "cell_type": "code",
   "execution_count": null,
   "id": "3e936e26",
   "metadata": {
    "papermill": {
     "duration": 0.160885,
     "end_time": "2023-10-25T02:07:00.850569",
     "exception": false,
     "start_time": "2023-10-25T02:07:00.689684",
     "status": "completed"
    },
    "tags": []
   },
   "outputs": [],
   "source": [
    "print('Top 10 country which have highest growth rate')\n",
    "\n",
    "fig = px.line(df,\n",
    "             x='Country/Territory',\n",
    "             y='Growth Rate',\n",
    "             labels = {\n",
    "                 'Country/Territory' : 'Country'\n",
    "             },\n",
    "             title = 'Top 10 country which have highest growth rate',\n",
    "             color='Continent',\n",
    "             markers=True)\n",
    "fig.show()"
   ]
  },
  {
   "cell_type": "code",
   "execution_count": null,
   "id": "5f3b95d3-fe94-4487-8957-67f433daff87",
   "metadata": {},
   "outputs": [],
   "source": []
  },
  {
   "cell_type": "code",
   "execution_count": null,
   "id": "3de8f4bd-62b2-433e-bb91-a7e3035a58eb",
   "metadata": {},
   "outputs": [],
   "source": []
  },
  {
   "cell_type": "code",
   "execution_count": null,
   "id": "a37966f9-bfcc-499a-90e3-e098b023b77b",
   "metadata": {},
   "outputs": [],
   "source": []
  },
  {
   "cell_type": "code",
   "execution_count": null,
   "id": "1408e0fb-cc73-4ece-8db3-4817ee95e21d",
   "metadata": {},
   "outputs": [],
   "source": []
  }
 ],
 "metadata": {
  "kernelspec": {
   "display_name": "Python 3 (ipykernel)",
   "language": "python",
   "name": "python3"
  },
  "language_info": {
   "codemirror_mode": {
    "name": "ipython",
    "version": 3
   },
   "file_extension": ".py",
   "mimetype": "text/x-python",
   "name": "python",
   "nbconvert_exporter": "python",
   "pygments_lexer": "ipython3",
   "version": "3.9.7"
  },
  "papermill": {
   "default_parameters": {},
   "duration": 12.652707,
   "end_time": "2023-10-25T02:07:01.685835",
   "environment_variables": {},
   "exception": null,
   "input_path": "__notebook__.ipynb",
   "output_path": "__notebook__.ipynb",
   "parameters": {},
   "start_time": "2023-10-25T02:06:49.033128",
   "version": "2.4.0"
  }
 },
 "nbformat": 4,
 "nbformat_minor": 5
}
