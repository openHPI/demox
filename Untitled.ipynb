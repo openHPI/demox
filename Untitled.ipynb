{
 "cells": [
  {
   "cell_type": "markdown",
   "id": "cf2a3737-329c-4bf5-a017-abadfa3b687e",
   "metadata": {},
   "source": [
    "## Welcome to OpenJupyter \n",
    "\n",
    "#### An enhanced platform built upon Jupyter notebooks, which is the interface you are currently using. Notebooks serve as an excellent means to structure your code and incorporate comments known as markdowns. Within code cells, you can compose and execute your code independently, making it a valuable tool for data visualization. Let's explore its capabilities together."
   ]
  },
  {
   "cell_type": "markdown",
   "id": "d60d09d3-d3b4-4ae9-8655-d6c7c4ad334c",
   "metadata": {
    "tags": []
   },
   "source": [
    "### This is a markdown cell\n",
    "\n",
    "\"Try to change this text and say hello\""
   ]
  },
  {
   "cell_type": "code",
   "execution_count": null,
   "id": "6b839782-d697-47e0-91c4-32cbbe884b78",
   "metadata": {},
   "outputs": [],
   "source": [
    "# This is a code cell. \n",
    "\n",
    "# Try running it by pressing the start button at the top of the notebook or simply press shift+enter.\n",
    "\n",
    "print(\"I just ran my first code cell\")"
   ]
  },
  {
   "cell_type": "markdown",
   "id": "19148305-5cc0-4cd8-b137-39b2b5f64c9a",
   "metadata": {},
   "source": [
    "p.s. you can see what type of cell you are currently in by looking at the top of the notebook"
   ]
  },
  {
   "cell_type": "markdown",
   "id": "7a3685bf-4759-4a2e-92ba-5d806daed210",
   "metadata": {},
   "source": []
  },
  {
   "cell_type": "code",
   "execution_count": null,
   "id": "0480b5ef-81f6-48dd-b8e8-e8bd4575c85e",
   "metadata": {},
   "outputs": [],
   "source": []
  }
 ],
 "metadata": {
  "kernelspec": {
   "display_name": "Python 3 (ipykernel)",
   "language": "python",
   "name": "python3"
  },
  "language_info": {
   "codemirror_mode": {
    "name": "ipython",
    "version": 3
   },
   "file_extension": ".py",
   "mimetype": "text/x-python",
   "name": "python",
   "nbconvert_exporter": "python",
   "pygments_lexer": "ipython3",
   "version": "3.9.7"
  }
 },
 "nbformat": 4,
 "nbformat_minor": 5
}
